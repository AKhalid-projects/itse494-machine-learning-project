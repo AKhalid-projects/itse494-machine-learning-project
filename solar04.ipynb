{
  "nbformat": 4,
  "nbformat_minor": 0,
  "metadata": {
    "colab": {
      "provenance": []
    },
    "kernelspec": {
      "name": "python3",
      "display_name": "Python 3"
    },
    "language_info": {
      "name": "python"
    }
  },
  "cells": [
    {
      "cell_type": "markdown",
      "source": [
        "\n",
        "**Solar dataset**"
      ],
      "metadata": {
        "id": "lSp5RIXrdrkR"
      }
    },
    {
      "cell_type": "code",
      "execution_count": 2,
      "metadata": {
        "id": "mSpRLWU1cWWV"
      },
      "outputs": [],
      "source": [
        "import pandas as pd\n",
        "import numpy as np\n",
        "import pylab as plt\n",
        "\n",
        "# Set the global default size of matplotlib figures\n",
        "plt.rc('figure', figsize=(10, 5))\n",
        "\n",
        "# Size of matplotlib figures that contain subplots\n",
        "fizsize_with_subplots = (10, 10)\n",
        "\n",
        "# Size of matplotlib histogram bins\n",
        "bin_size = 10"
      ]
    },
    {
      "cell_type": "markdown",
      "source": [
        "**Exploring the Data**"
      ],
      "metadata": {
        "id": "0b7LRK-xelzi"
      }
    },
    {
      "cell_type": "code",
      "source": [
        "df_train = pd.read_csv('/content/sample_data/ALDAR-CP1.csv')\n",
        "df_train.head()"
      ],
      "metadata": {
        "colab": {
          "base_uri": "https://localhost:8080/",
          "height": 374
        },
        "id": "-oiXg8SMevGb",
        "outputId": "ab7fe934-f216-48db-a092-f8f14f3d42ea"
      },
      "execution_count": 4,
      "outputs": [
        {
          "output_type": "execute_result",
          "data": {
            "text/plain": [
              "                 SN            Dev ID             AP ID        AP IP  \\\n",
              "0  000D6F0001809666  000D6F0001809666  0013A2004098D655  10.179.0.24   \n",
              "1  000D6F0001809666  000D6F0001809666  0013A2004098D655  10.179.0.24   \n",
              "2  000D6F0001809666  000D6F0001809666  0013A2004098D655  10.179.0.24   \n",
              "3  000D6F0001809666  000D6F0001809666  0013A2004098D655  10.179.0.24   \n",
              "4  000D6F0001809666  000D6F0001809666  0013A2004098D655  10.179.0.24   \n",
              "\n",
              "          AP Time      Time Stamp  Ver  Freq (Hz)  t (°C)  VAR  Status  \\\n",
              "0  8/2/2020 19:00  8/2/2020 18:11  6.1      50.03    41.0  4.9      16   \n",
              "1  8/2/2020 18:00  8/2/2020 17:56  6.1      50.03    41.6  7.2       1   \n",
              "2  8/2/2020 17:00  8/2/2020 16:57  6.1      50.05    44.6  5.5       1   \n",
              "3  8/2/2020 16:00  8/2/2020 15:59  6.1      50.04    46.2 -5.2       1   \n",
              "4  8/2/2020 15:00  8/2/2020 14:45  6.1      50.05    50.9 -7.0       1   \n",
              "\n",
              "    E (kWh)  P (W)  \n",
              "0  1813.030    0.0  \n",
              "1  1813.030    0.8  \n",
              "2  1813.016   30.0  \n",
              "3  1812.976   40.7  \n",
              "4  1812.880  100.8  "
            ],
            "text/html": [
              "\n",
              "  <div id=\"df-d0fe620d-a4f6-4dce-8221-b85341663236\">\n",
              "    <div class=\"colab-df-container\">\n",
              "      <div>\n",
              "<style scoped>\n",
              "    .dataframe tbody tr th:only-of-type {\n",
              "        vertical-align: middle;\n",
              "    }\n",
              "\n",
              "    .dataframe tbody tr th {\n",
              "        vertical-align: top;\n",
              "    }\n",
              "\n",
              "    .dataframe thead th {\n",
              "        text-align: right;\n",
              "    }\n",
              "</style>\n",
              "<table border=\"1\" class=\"dataframe\">\n",
              "  <thead>\n",
              "    <tr style=\"text-align: right;\">\n",
              "      <th></th>\n",
              "      <th>SN</th>\n",
              "      <th>Dev ID</th>\n",
              "      <th>AP ID</th>\n",
              "      <th>AP IP</th>\n",
              "      <th>AP Time</th>\n",
              "      <th>Time Stamp</th>\n",
              "      <th>Ver</th>\n",
              "      <th>Freq (Hz)</th>\n",
              "      <th>t (°C)</th>\n",
              "      <th>VAR</th>\n",
              "      <th>Status</th>\n",
              "      <th>E (kWh)</th>\n",
              "      <th>P (W)</th>\n",
              "    </tr>\n",
              "  </thead>\n",
              "  <tbody>\n",
              "    <tr>\n",
              "      <th>0</th>\n",
              "      <td>000D6F0001809666</td>\n",
              "      <td>000D6F0001809666</td>\n",
              "      <td>0013A2004098D655</td>\n",
              "      <td>10.179.0.24</td>\n",
              "      <td>8/2/2020 19:00</td>\n",
              "      <td>8/2/2020 18:11</td>\n",
              "      <td>6.1</td>\n",
              "      <td>50.03</td>\n",
              "      <td>41.0</td>\n",
              "      <td>4.9</td>\n",
              "      <td>16</td>\n",
              "      <td>1813.030</td>\n",
              "      <td>0.0</td>\n",
              "    </tr>\n",
              "    <tr>\n",
              "      <th>1</th>\n",
              "      <td>000D6F0001809666</td>\n",
              "      <td>000D6F0001809666</td>\n",
              "      <td>0013A2004098D655</td>\n",
              "      <td>10.179.0.24</td>\n",
              "      <td>8/2/2020 18:00</td>\n",
              "      <td>8/2/2020 17:56</td>\n",
              "      <td>6.1</td>\n",
              "      <td>50.03</td>\n",
              "      <td>41.6</td>\n",
              "      <td>7.2</td>\n",
              "      <td>1</td>\n",
              "      <td>1813.030</td>\n",
              "      <td>0.8</td>\n",
              "    </tr>\n",
              "    <tr>\n",
              "      <th>2</th>\n",
              "      <td>000D6F0001809666</td>\n",
              "      <td>000D6F0001809666</td>\n",
              "      <td>0013A2004098D655</td>\n",
              "      <td>10.179.0.24</td>\n",
              "      <td>8/2/2020 17:00</td>\n",
              "      <td>8/2/2020 16:57</td>\n",
              "      <td>6.1</td>\n",
              "      <td>50.05</td>\n",
              "      <td>44.6</td>\n",
              "      <td>5.5</td>\n",
              "      <td>1</td>\n",
              "      <td>1813.016</td>\n",
              "      <td>30.0</td>\n",
              "    </tr>\n",
              "    <tr>\n",
              "      <th>3</th>\n",
              "      <td>000D6F0001809666</td>\n",
              "      <td>000D6F0001809666</td>\n",
              "      <td>0013A2004098D655</td>\n",
              "      <td>10.179.0.24</td>\n",
              "      <td>8/2/2020 16:00</td>\n",
              "      <td>8/2/2020 15:59</td>\n",
              "      <td>6.1</td>\n",
              "      <td>50.04</td>\n",
              "      <td>46.2</td>\n",
              "      <td>-5.2</td>\n",
              "      <td>1</td>\n",
              "      <td>1812.976</td>\n",
              "      <td>40.7</td>\n",
              "    </tr>\n",
              "    <tr>\n",
              "      <th>4</th>\n",
              "      <td>000D6F0001809666</td>\n",
              "      <td>000D6F0001809666</td>\n",
              "      <td>0013A2004098D655</td>\n",
              "      <td>10.179.0.24</td>\n",
              "      <td>8/2/2020 15:00</td>\n",
              "      <td>8/2/2020 14:45</td>\n",
              "      <td>6.1</td>\n",
              "      <td>50.05</td>\n",
              "      <td>50.9</td>\n",
              "      <td>-7.0</td>\n",
              "      <td>1</td>\n",
              "      <td>1812.880</td>\n",
              "      <td>100.8</td>\n",
              "    </tr>\n",
              "  </tbody>\n",
              "</table>\n",
              "</div>\n",
              "      <button class=\"colab-df-convert\" onclick=\"convertToInteractive('df-d0fe620d-a4f6-4dce-8221-b85341663236')\"\n",
              "              title=\"Convert this dataframe to an interactive table.\"\n",
              "              style=\"display:none;\">\n",
              "        \n",
              "  <svg xmlns=\"http://www.w3.org/2000/svg\" height=\"24px\"viewBox=\"0 0 24 24\"\n",
              "       width=\"24px\">\n",
              "    <path d=\"M0 0h24v24H0V0z\" fill=\"none\"/>\n",
              "    <path d=\"M18.56 5.44l.94 2.06.94-2.06 2.06-.94-2.06-.94-.94-2.06-.94 2.06-2.06.94zm-11 1L8.5 8.5l.94-2.06 2.06-.94-2.06-.94L8.5 2.5l-.94 2.06-2.06.94zm10 10l.94 2.06.94-2.06 2.06-.94-2.06-.94-.94-2.06-.94 2.06-2.06.94z\"/><path d=\"M17.41 7.96l-1.37-1.37c-.4-.4-.92-.59-1.43-.59-.52 0-1.04.2-1.43.59L10.3 9.45l-7.72 7.72c-.78.78-.78 2.05 0 2.83L4 21.41c.39.39.9.59 1.41.59.51 0 1.02-.2 1.41-.59l7.78-7.78 2.81-2.81c.8-.78.8-2.07 0-2.86zM5.41 20L4 18.59l7.72-7.72 1.47 1.35L5.41 20z\"/>\n",
              "  </svg>\n",
              "      </button>\n",
              "      \n",
              "  <style>\n",
              "    .colab-df-container {\n",
              "      display:flex;\n",
              "      flex-wrap:wrap;\n",
              "      gap: 12px;\n",
              "    }\n",
              "\n",
              "    .colab-df-convert {\n",
              "      background-color: #E8F0FE;\n",
              "      border: none;\n",
              "      border-radius: 50%;\n",
              "      cursor: pointer;\n",
              "      display: none;\n",
              "      fill: #1967D2;\n",
              "      height: 32px;\n",
              "      padding: 0 0 0 0;\n",
              "      width: 32px;\n",
              "    }\n",
              "\n",
              "    .colab-df-convert:hover {\n",
              "      background-color: #E2EBFA;\n",
              "      box-shadow: 0px 1px 2px rgba(60, 64, 67, 0.3), 0px 1px 3px 1px rgba(60, 64, 67, 0.15);\n",
              "      fill: #174EA6;\n",
              "    }\n",
              "\n",
              "    [theme=dark] .colab-df-convert {\n",
              "      background-color: #3B4455;\n",
              "      fill: #D2E3FC;\n",
              "    }\n",
              "\n",
              "    [theme=dark] .colab-df-convert:hover {\n",
              "      background-color: #434B5C;\n",
              "      box-shadow: 0px 1px 3px 1px rgba(0, 0, 0, 0.15);\n",
              "      filter: drop-shadow(0px 1px 2px rgba(0, 0, 0, 0.3));\n",
              "      fill: #FFFFFF;\n",
              "    }\n",
              "  </style>\n",
              "\n",
              "      <script>\n",
              "        const buttonEl =\n",
              "          document.querySelector('#df-d0fe620d-a4f6-4dce-8221-b85341663236 button.colab-df-convert');\n",
              "        buttonEl.style.display =\n",
              "          google.colab.kernel.accessAllowed ? 'block' : 'none';\n",
              "\n",
              "        async function convertToInteractive(key) {\n",
              "          const element = document.querySelector('#df-d0fe620d-a4f6-4dce-8221-b85341663236');\n",
              "          const dataTable =\n",
              "            await google.colab.kernel.invokeFunction('convertToInteractive',\n",
              "                                                     [key], {});\n",
              "          if (!dataTable) return;\n",
              "\n",
              "          const docLinkHtml = 'Like what you see? Visit the ' +\n",
              "            '<a target=\"_blank\" href=https://colab.research.google.com/notebooks/data_table.ipynb>data table notebook</a>'\n",
              "            + ' to learn more about interactive tables.';\n",
              "          element.innerHTML = '';\n",
              "          dataTable['output_type'] = 'display_data';\n",
              "          await google.colab.output.renderOutput(dataTable, element);\n",
              "          const docLink = document.createElement('div');\n",
              "          docLink.innerHTML = docLinkHtml;\n",
              "          element.appendChild(docLink);\n",
              "        }\n",
              "      </script>\n",
              "    </div>\n",
              "  </div>\n",
              "  "
            ]
          },
          "metadata": {},
          "execution_count": 4
        }
      ]
    },
    {
      "cell_type": "code",
      "source": [
        "df_train.tail()"
      ],
      "metadata": {
        "colab": {
          "base_uri": "https://localhost:8080/",
          "height": 374
        },
        "id": "blMuXOv3fEQ6",
        "outputId": "c7c00c33-d351-4a3b-f9b9-d61309f52ee7"
      },
      "execution_count": 5,
      "outputs": [
        {
          "output_type": "execute_result",
          "data": {
            "text/plain": [
              "                    SN            Dev ID             AP ID        AP IP  \\\n",
              "8672  000D6F00023E6161  000D6F00023E6161  0013A2004098D5DE  10.179.0.45   \n",
              "8673  000D6F00023E6161  000D6F00023E6161  0013A2004098D5DE  10.179.0.45   \n",
              "8674  000D6F00023E6161  000D6F00023E6161  0013A2004098D5DE  10.179.0.45   \n",
              "8675  000D6F00023E6161  000D6F00023E6161  0013A2004098D5DE  10.179.0.45   \n",
              "8676  000D6F00023E6161  000D6F00023E6161  0013A2004098D5DE  10.179.0.45   \n",
              "\n",
              "             AP Time      Time Stamp   Ver  Freq (Hz)  t (°C)  VAR  Status  \\\n",
              "8672  3/1/2022 11:00  3/1/2022 10:53  5.32      50.05    35.7  6.8       1   \n",
              "8673  3/1/2022 10:00   3/1/2022 9:55  5.32      50.03    32.8  6.0       1   \n",
              "8674   3/1/2022 9:00   3/1/2022 8:56  5.32      50.01    29.4 -5.0       1   \n",
              "8675   3/1/2022 8:00   3/1/2022 7:57  5.32      50.03    27.5  4.7       1   \n",
              "8676   3/1/2022 7:00   3/1/2022 6:59  5.32      50.08    18.3  3.8       1   \n",
              "\n",
              "      E (kWh)  P (W)  \n",
              "8672   64.399  152.8  \n",
              "8673   64.257  135.7  \n",
              "8674   64.138  106.0  \n",
              "8675   64.052   66.5  \n",
              "8676   64.012    6.5  "
            ],
            "text/html": [
              "\n",
              "  <div id=\"df-97d22bae-925b-499f-9e60-c6c85734b427\">\n",
              "    <div class=\"colab-df-container\">\n",
              "      <div>\n",
              "<style scoped>\n",
              "    .dataframe tbody tr th:only-of-type {\n",
              "        vertical-align: middle;\n",
              "    }\n",
              "\n",
              "    .dataframe tbody tr th {\n",
              "        vertical-align: top;\n",
              "    }\n",
              "\n",
              "    .dataframe thead th {\n",
              "        text-align: right;\n",
              "    }\n",
              "</style>\n",
              "<table border=\"1\" class=\"dataframe\">\n",
              "  <thead>\n",
              "    <tr style=\"text-align: right;\">\n",
              "      <th></th>\n",
              "      <th>SN</th>\n",
              "      <th>Dev ID</th>\n",
              "      <th>AP ID</th>\n",
              "      <th>AP IP</th>\n",
              "      <th>AP Time</th>\n",
              "      <th>Time Stamp</th>\n",
              "      <th>Ver</th>\n",
              "      <th>Freq (Hz)</th>\n",
              "      <th>t (°C)</th>\n",
              "      <th>VAR</th>\n",
              "      <th>Status</th>\n",
              "      <th>E (kWh)</th>\n",
              "      <th>P (W)</th>\n",
              "    </tr>\n",
              "  </thead>\n",
              "  <tbody>\n",
              "    <tr>\n",
              "      <th>8672</th>\n",
              "      <td>000D6F00023E6161</td>\n",
              "      <td>000D6F00023E6161</td>\n",
              "      <td>0013A2004098D5DE</td>\n",
              "      <td>10.179.0.45</td>\n",
              "      <td>3/1/2022 11:00</td>\n",
              "      <td>3/1/2022 10:53</td>\n",
              "      <td>5.32</td>\n",
              "      <td>50.05</td>\n",
              "      <td>35.7</td>\n",
              "      <td>6.8</td>\n",
              "      <td>1</td>\n",
              "      <td>64.399</td>\n",
              "      <td>152.8</td>\n",
              "    </tr>\n",
              "    <tr>\n",
              "      <th>8673</th>\n",
              "      <td>000D6F00023E6161</td>\n",
              "      <td>000D6F00023E6161</td>\n",
              "      <td>0013A2004098D5DE</td>\n",
              "      <td>10.179.0.45</td>\n",
              "      <td>3/1/2022 10:00</td>\n",
              "      <td>3/1/2022 9:55</td>\n",
              "      <td>5.32</td>\n",
              "      <td>50.03</td>\n",
              "      <td>32.8</td>\n",
              "      <td>6.0</td>\n",
              "      <td>1</td>\n",
              "      <td>64.257</td>\n",
              "      <td>135.7</td>\n",
              "    </tr>\n",
              "    <tr>\n",
              "      <th>8674</th>\n",
              "      <td>000D6F00023E6161</td>\n",
              "      <td>000D6F00023E6161</td>\n",
              "      <td>0013A2004098D5DE</td>\n",
              "      <td>10.179.0.45</td>\n",
              "      <td>3/1/2022 9:00</td>\n",
              "      <td>3/1/2022 8:56</td>\n",
              "      <td>5.32</td>\n",
              "      <td>50.01</td>\n",
              "      <td>29.4</td>\n",
              "      <td>-5.0</td>\n",
              "      <td>1</td>\n",
              "      <td>64.138</td>\n",
              "      <td>106.0</td>\n",
              "    </tr>\n",
              "    <tr>\n",
              "      <th>8675</th>\n",
              "      <td>000D6F00023E6161</td>\n",
              "      <td>000D6F00023E6161</td>\n",
              "      <td>0013A2004098D5DE</td>\n",
              "      <td>10.179.0.45</td>\n",
              "      <td>3/1/2022 8:00</td>\n",
              "      <td>3/1/2022 7:57</td>\n",
              "      <td>5.32</td>\n",
              "      <td>50.03</td>\n",
              "      <td>27.5</td>\n",
              "      <td>4.7</td>\n",
              "      <td>1</td>\n",
              "      <td>64.052</td>\n",
              "      <td>66.5</td>\n",
              "    </tr>\n",
              "    <tr>\n",
              "      <th>8676</th>\n",
              "      <td>000D6F00023E6161</td>\n",
              "      <td>000D6F00023E6161</td>\n",
              "      <td>0013A2004098D5DE</td>\n",
              "      <td>10.179.0.45</td>\n",
              "      <td>3/1/2022 7:00</td>\n",
              "      <td>3/1/2022 6:59</td>\n",
              "      <td>5.32</td>\n",
              "      <td>50.08</td>\n",
              "      <td>18.3</td>\n",
              "      <td>3.8</td>\n",
              "      <td>1</td>\n",
              "      <td>64.012</td>\n",
              "      <td>6.5</td>\n",
              "    </tr>\n",
              "  </tbody>\n",
              "</table>\n",
              "</div>\n",
              "      <button class=\"colab-df-convert\" onclick=\"convertToInteractive('df-97d22bae-925b-499f-9e60-c6c85734b427')\"\n",
              "              title=\"Convert this dataframe to an interactive table.\"\n",
              "              style=\"display:none;\">\n",
              "        \n",
              "  <svg xmlns=\"http://www.w3.org/2000/svg\" height=\"24px\"viewBox=\"0 0 24 24\"\n",
              "       width=\"24px\">\n",
              "    <path d=\"M0 0h24v24H0V0z\" fill=\"none\"/>\n",
              "    <path d=\"M18.56 5.44l.94 2.06.94-2.06 2.06-.94-2.06-.94-.94-2.06-.94 2.06-2.06.94zm-11 1L8.5 8.5l.94-2.06 2.06-.94-2.06-.94L8.5 2.5l-.94 2.06-2.06.94zm10 10l.94 2.06.94-2.06 2.06-.94-2.06-.94-.94-2.06-.94 2.06-2.06.94z\"/><path d=\"M17.41 7.96l-1.37-1.37c-.4-.4-.92-.59-1.43-.59-.52 0-1.04.2-1.43.59L10.3 9.45l-7.72 7.72c-.78.78-.78 2.05 0 2.83L4 21.41c.39.39.9.59 1.41.59.51 0 1.02-.2 1.41-.59l7.78-7.78 2.81-2.81c.8-.78.8-2.07 0-2.86zM5.41 20L4 18.59l7.72-7.72 1.47 1.35L5.41 20z\"/>\n",
              "  </svg>\n",
              "      </button>\n",
              "      \n",
              "  <style>\n",
              "    .colab-df-container {\n",
              "      display:flex;\n",
              "      flex-wrap:wrap;\n",
              "      gap: 12px;\n",
              "    }\n",
              "\n",
              "    .colab-df-convert {\n",
              "      background-color: #E8F0FE;\n",
              "      border: none;\n",
              "      border-radius: 50%;\n",
              "      cursor: pointer;\n",
              "      display: none;\n",
              "      fill: #1967D2;\n",
              "      height: 32px;\n",
              "      padding: 0 0 0 0;\n",
              "      width: 32px;\n",
              "    }\n",
              "\n",
              "    .colab-df-convert:hover {\n",
              "      background-color: #E2EBFA;\n",
              "      box-shadow: 0px 1px 2px rgba(60, 64, 67, 0.3), 0px 1px 3px 1px rgba(60, 64, 67, 0.15);\n",
              "      fill: #174EA6;\n",
              "    }\n",
              "\n",
              "    [theme=dark] .colab-df-convert {\n",
              "      background-color: #3B4455;\n",
              "      fill: #D2E3FC;\n",
              "    }\n",
              "\n",
              "    [theme=dark] .colab-df-convert:hover {\n",
              "      background-color: #434B5C;\n",
              "      box-shadow: 0px 1px 3px 1px rgba(0, 0, 0, 0.15);\n",
              "      filter: drop-shadow(0px 1px 2px rgba(0, 0, 0, 0.3));\n",
              "      fill: #FFFFFF;\n",
              "    }\n",
              "  </style>\n",
              "\n",
              "      <script>\n",
              "        const buttonEl =\n",
              "          document.querySelector('#df-97d22bae-925b-499f-9e60-c6c85734b427 button.colab-df-convert');\n",
              "        buttonEl.style.display =\n",
              "          google.colab.kernel.accessAllowed ? 'block' : 'none';\n",
              "\n",
              "        async function convertToInteractive(key) {\n",
              "          const element = document.querySelector('#df-97d22bae-925b-499f-9e60-c6c85734b427');\n",
              "          const dataTable =\n",
              "            await google.colab.kernel.invokeFunction('convertToInteractive',\n",
              "                                                     [key], {});\n",
              "          if (!dataTable) return;\n",
              "\n",
              "          const docLinkHtml = 'Like what you see? Visit the ' +\n",
              "            '<a target=\"_blank\" href=https://colab.research.google.com/notebooks/data_table.ipynb>data table notebook</a>'\n",
              "            + ' to learn more about interactive tables.';\n",
              "          element.innerHTML = '';\n",
              "          dataTable['output_type'] = 'display_data';\n",
              "          await google.colab.output.renderOutput(dataTable, element);\n",
              "          const docLink = document.createElement('div');\n",
              "          docLink.innerHTML = docLinkHtml;\n",
              "          element.appendChild(docLink);\n",
              "        }\n",
              "      </script>\n",
              "    </div>\n",
              "  </div>\n",
              "  "
            ]
          },
          "metadata": {},
          "execution_count": 5
        }
      ]
    },
    {
      "cell_type": "code",
      "source": [
        "df_train.dtypes"
      ],
      "metadata": {
        "colab": {
          "base_uri": "https://localhost:8080/"
        },
        "id": "fr1zM-mofcMw",
        "outputId": "b2778475-e69c-4d6d-b119-93504c0f77ca"
      },
      "execution_count": 6,
      "outputs": [
        {
          "output_type": "execute_result",
          "data": {
            "text/plain": [
              "SN             object\n",
              "Dev ID         object\n",
              "AP ID          object\n",
              "AP IP          object\n",
              "AP Time        object\n",
              "Time Stamp     object\n",
              "Ver           float64\n",
              "Freq (Hz)     float64\n",
              "t (°C)        float64\n",
              "VAR           float64\n",
              "Status          int64\n",
              "E (kWh)       float64\n",
              "P (W)         float64\n",
              "dtype: object"
            ]
          },
          "metadata": {},
          "execution_count": 6
        }
      ]
    },
    {
      "cell_type": "code",
      "source": [
        "df_train.info()"
      ],
      "metadata": {
        "colab": {
          "base_uri": "https://localhost:8080/"
        },
        "id": "QTpPV4Rqfhxg",
        "outputId": "74635111-db82-4d6c-b65b-f4bb31465c79"
      },
      "execution_count": 7,
      "outputs": [
        {
          "output_type": "stream",
          "name": "stdout",
          "text": [
            "<class 'pandas.core.frame.DataFrame'>\n",
            "RangeIndex: 8677 entries, 0 to 8676\n",
            "Data columns (total 13 columns):\n",
            " #   Column      Non-Null Count  Dtype  \n",
            "---  ------      --------------  -----  \n",
            " 0   SN          8677 non-null   object \n",
            " 1   Dev ID      8677 non-null   object \n",
            " 2   AP ID       8677 non-null   object \n",
            " 3   AP IP       8677 non-null   object \n",
            " 4   AP Time     8677 non-null   object \n",
            " 5   Time Stamp  8677 non-null   object \n",
            " 6   Ver         8677 non-null   float64\n",
            " 7   Freq (Hz)   8677 non-null   float64\n",
            " 8   t (°C)      8677 non-null   float64\n",
            " 9   VAR         8677 non-null   float64\n",
            " 10  Status      8677 non-null   int64  \n",
            " 11  E (kWh)     8677 non-null   float64\n",
            " 12  P (W)       8677 non-null   float64\n",
            "dtypes: float64(6), int64(1), object(6)\n",
            "memory usage: 881.4+ KB\n"
          ]
        }
      ]
    },
    {
      "cell_type": "code",
      "source": [
        "df_train.describe()"
      ],
      "metadata": {
        "colab": {
          "base_uri": "https://localhost:8080/",
          "height": 300
        },
        "id": "l_RU36Suf0p3",
        "outputId": "2f75fca3-40ef-42bf-8c48-3249e461d60e"
      },
      "execution_count": 8,
      "outputs": [
        {
          "output_type": "execute_result",
          "data": {
            "text/plain": [
              "               Ver    Freq (Hz)       t (°C)          VAR       Status  \\\n",
              "count  8677.000000  8677.000000  8677.000000  8677.000000  8677.000000   \n",
              "mean      5.452592    50.177030    37.435139     1.462741   238.014060   \n",
              "std       0.263446     1.665622     9.938986     8.690166   773.120286   \n",
              "min       5.320000    49.700000    12.800000   -68.000000     0.000000   \n",
              "25%       5.320000    50.010000    29.600000    -5.100000     1.000000   \n",
              "50%       5.320000    50.040000    37.100000     0.200000     1.000000   \n",
              "75%       5.400000    50.050000    45.300000     5.600000    16.000000   \n",
              "max       6.100000    70.080000    61.000000    42.500000  3602.000000   \n",
              "\n",
              "           E (kWh)        P (W)  \n",
              "count  8677.000000  8677.000000  \n",
              "mean   1287.738995    62.034044  \n",
              "std    1111.475829    53.347173  \n",
              "min       0.006000     0.000000  \n",
              "25%     170.696000     0.000000  \n",
              "50%    1490.626000    58.500000  \n",
              "75%    1917.392000   104.700000  \n",
              "max    5507.248000   181.800000  "
            ],
            "text/html": [
              "\n",
              "  <div id=\"df-6a666dc3-30ed-46c5-a948-613a4ce3cccc\">\n",
              "    <div class=\"colab-df-container\">\n",
              "      <div>\n",
              "<style scoped>\n",
              "    .dataframe tbody tr th:only-of-type {\n",
              "        vertical-align: middle;\n",
              "    }\n",
              "\n",
              "    .dataframe tbody tr th {\n",
              "        vertical-align: top;\n",
              "    }\n",
              "\n",
              "    .dataframe thead th {\n",
              "        text-align: right;\n",
              "    }\n",
              "</style>\n",
              "<table border=\"1\" class=\"dataframe\">\n",
              "  <thead>\n",
              "    <tr style=\"text-align: right;\">\n",
              "      <th></th>\n",
              "      <th>Ver</th>\n",
              "      <th>Freq (Hz)</th>\n",
              "      <th>t (°C)</th>\n",
              "      <th>VAR</th>\n",
              "      <th>Status</th>\n",
              "      <th>E (kWh)</th>\n",
              "      <th>P (W)</th>\n",
              "    </tr>\n",
              "  </thead>\n",
              "  <tbody>\n",
              "    <tr>\n",
              "      <th>count</th>\n",
              "      <td>8677.000000</td>\n",
              "      <td>8677.000000</td>\n",
              "      <td>8677.000000</td>\n",
              "      <td>8677.000000</td>\n",
              "      <td>8677.000000</td>\n",
              "      <td>8677.000000</td>\n",
              "      <td>8677.000000</td>\n",
              "    </tr>\n",
              "    <tr>\n",
              "      <th>mean</th>\n",
              "      <td>5.452592</td>\n",
              "      <td>50.177030</td>\n",
              "      <td>37.435139</td>\n",
              "      <td>1.462741</td>\n",
              "      <td>238.014060</td>\n",
              "      <td>1287.738995</td>\n",
              "      <td>62.034044</td>\n",
              "    </tr>\n",
              "    <tr>\n",
              "      <th>std</th>\n",
              "      <td>0.263446</td>\n",
              "      <td>1.665622</td>\n",
              "      <td>9.938986</td>\n",
              "      <td>8.690166</td>\n",
              "      <td>773.120286</td>\n",
              "      <td>1111.475829</td>\n",
              "      <td>53.347173</td>\n",
              "    </tr>\n",
              "    <tr>\n",
              "      <th>min</th>\n",
              "      <td>5.320000</td>\n",
              "      <td>49.700000</td>\n",
              "      <td>12.800000</td>\n",
              "      <td>-68.000000</td>\n",
              "      <td>0.000000</td>\n",
              "      <td>0.006000</td>\n",
              "      <td>0.000000</td>\n",
              "    </tr>\n",
              "    <tr>\n",
              "      <th>25%</th>\n",
              "      <td>5.320000</td>\n",
              "      <td>50.010000</td>\n",
              "      <td>29.600000</td>\n",
              "      <td>-5.100000</td>\n",
              "      <td>1.000000</td>\n",
              "      <td>170.696000</td>\n",
              "      <td>0.000000</td>\n",
              "    </tr>\n",
              "    <tr>\n",
              "      <th>50%</th>\n",
              "      <td>5.320000</td>\n",
              "      <td>50.040000</td>\n",
              "      <td>37.100000</td>\n",
              "      <td>0.200000</td>\n",
              "      <td>1.000000</td>\n",
              "      <td>1490.626000</td>\n",
              "      <td>58.500000</td>\n",
              "    </tr>\n",
              "    <tr>\n",
              "      <th>75%</th>\n",
              "      <td>5.400000</td>\n",
              "      <td>50.050000</td>\n",
              "      <td>45.300000</td>\n",
              "      <td>5.600000</td>\n",
              "      <td>16.000000</td>\n",
              "      <td>1917.392000</td>\n",
              "      <td>104.700000</td>\n",
              "    </tr>\n",
              "    <tr>\n",
              "      <th>max</th>\n",
              "      <td>6.100000</td>\n",
              "      <td>70.080000</td>\n",
              "      <td>61.000000</td>\n",
              "      <td>42.500000</td>\n",
              "      <td>3602.000000</td>\n",
              "      <td>5507.248000</td>\n",
              "      <td>181.800000</td>\n",
              "    </tr>\n",
              "  </tbody>\n",
              "</table>\n",
              "</div>\n",
              "      <button class=\"colab-df-convert\" onclick=\"convertToInteractive('df-6a666dc3-30ed-46c5-a948-613a4ce3cccc')\"\n",
              "              title=\"Convert this dataframe to an interactive table.\"\n",
              "              style=\"display:none;\">\n",
              "        \n",
              "  <svg xmlns=\"http://www.w3.org/2000/svg\" height=\"24px\"viewBox=\"0 0 24 24\"\n",
              "       width=\"24px\">\n",
              "    <path d=\"M0 0h24v24H0V0z\" fill=\"none\"/>\n",
              "    <path d=\"M18.56 5.44l.94 2.06.94-2.06 2.06-.94-2.06-.94-.94-2.06-.94 2.06-2.06.94zm-11 1L8.5 8.5l.94-2.06 2.06-.94-2.06-.94L8.5 2.5l-.94 2.06-2.06.94zm10 10l.94 2.06.94-2.06 2.06-.94-2.06-.94-.94-2.06-.94 2.06-2.06.94z\"/><path d=\"M17.41 7.96l-1.37-1.37c-.4-.4-.92-.59-1.43-.59-.52 0-1.04.2-1.43.59L10.3 9.45l-7.72 7.72c-.78.78-.78 2.05 0 2.83L4 21.41c.39.39.9.59 1.41.59.51 0 1.02-.2 1.41-.59l7.78-7.78 2.81-2.81c.8-.78.8-2.07 0-2.86zM5.41 20L4 18.59l7.72-7.72 1.47 1.35L5.41 20z\"/>\n",
              "  </svg>\n",
              "      </button>\n",
              "      \n",
              "  <style>\n",
              "    .colab-df-container {\n",
              "      display:flex;\n",
              "      flex-wrap:wrap;\n",
              "      gap: 12px;\n",
              "    }\n",
              "\n",
              "    .colab-df-convert {\n",
              "      background-color: #E8F0FE;\n",
              "      border: none;\n",
              "      border-radius: 50%;\n",
              "      cursor: pointer;\n",
              "      display: none;\n",
              "      fill: #1967D2;\n",
              "      height: 32px;\n",
              "      padding: 0 0 0 0;\n",
              "      width: 32px;\n",
              "    }\n",
              "\n",
              "    .colab-df-convert:hover {\n",
              "      background-color: #E2EBFA;\n",
              "      box-shadow: 0px 1px 2px rgba(60, 64, 67, 0.3), 0px 1px 3px 1px rgba(60, 64, 67, 0.15);\n",
              "      fill: #174EA6;\n",
              "    }\n",
              "\n",
              "    [theme=dark] .colab-df-convert {\n",
              "      background-color: #3B4455;\n",
              "      fill: #D2E3FC;\n",
              "    }\n",
              "\n",
              "    [theme=dark] .colab-df-convert:hover {\n",
              "      background-color: #434B5C;\n",
              "      box-shadow: 0px 1px 3px 1px rgba(0, 0, 0, 0.15);\n",
              "      filter: drop-shadow(0px 1px 2px rgba(0, 0, 0, 0.3));\n",
              "      fill: #FFFFFF;\n",
              "    }\n",
              "  </style>\n",
              "\n",
              "      <script>\n",
              "        const buttonEl =\n",
              "          document.querySelector('#df-6a666dc3-30ed-46c5-a948-613a4ce3cccc button.colab-df-convert');\n",
              "        buttonEl.style.display =\n",
              "          google.colab.kernel.accessAllowed ? 'block' : 'none';\n",
              "\n",
              "        async function convertToInteractive(key) {\n",
              "          const element = document.querySelector('#df-6a666dc3-30ed-46c5-a948-613a4ce3cccc');\n",
              "          const dataTable =\n",
              "            await google.colab.kernel.invokeFunction('convertToInteractive',\n",
              "                                                     [key], {});\n",
              "          if (!dataTable) return;\n",
              "\n",
              "          const docLinkHtml = 'Like what you see? Visit the ' +\n",
              "            '<a target=\"_blank\" href=https://colab.research.google.com/notebooks/data_table.ipynb>data table notebook</a>'\n",
              "            + ' to learn more about interactive tables.';\n",
              "          element.innerHTML = '';\n",
              "          dataTable['output_type'] = 'display_data';\n",
              "          await google.colab.output.renderOutput(dataTable, element);\n",
              "          const docLink = document.createElement('div');\n",
              "          docLink.innerHTML = docLinkHtml;\n",
              "          element.appendChild(docLink);\n",
              "        }\n",
              "      </script>\n",
              "    </div>\n",
              "  </div>\n",
              "  "
            ]
          },
          "metadata": {},
          "execution_count": 8
        }
      ]
    },
    {
      "cell_type": "code",
      "source": [
        "# Set up a grid of plots\n",
        "fig = plt.figure(figsize=fizsize_with_subplots) \n",
        "fig_dims = (3, 2)\n",
        "\n",
        "# Plot Power generated\n",
        "#plt.subplot2grid(fig_dims, (0, 0))\n",
        "#df_train['P (W)'].value_counts().plot(kind='bar', title='Power generated')\n",
        "\n",
        "# Plot Energy accumulated\n",
        "#plt.subplot2grid(fig_dims, (0, 1))\n",
        "#df_train['E (kWh)'].value_counts().plot(kind='bar', title='Energy accumulated')\n",
        "\n",
        "# Plot Frequency\n",
        "plt.subplot2grid(fig_dims, (1, 0))\n",
        "df_train['Freq (Hz)'].value_counts().plot(kind='bar', title='Frequency')\n",
        "plt.xticks(rotation=0)\n",
        "\n",
        "# Plot VAR\n",
        "#plt.subplot2grid(fig_dims, (1, 1))\n",
        "#df_train['VAR'].value_counts().plot(kind='bar', title='VAR')\n",
        "\n",
        "# Plot the Age histogram\n",
        "plt.subplot2grid(fig_dims, (2, 0))\n",
        "df_train['t (°C)'].hist()\n",
        "plt.title('Temp (°C)')"
      ],
      "metadata": {
        "colab": {
          "base_uri": "https://localhost:8080/",
          "height": 433
        },
        "id": "Iy0nqpHLgLbm",
        "outputId": "26e24448-e388-4a9f-b485-e9e6ab852f5d"
      },
      "execution_count": 9,
      "outputs": [
        {
          "output_type": "execute_result",
          "data": {
            "text/plain": [
              "Text(0.5, 1.0, 'Temp (°C)')"
            ]
          },
          "metadata": {},
          "execution_count": 9
        },
        {
          "output_type": "display_data",
          "data": {
            "text/plain": [
              "<Figure size 720x720 with 2 Axes>"
            ],
            "image/png": "[encoded data removed]"
          },
          "metadata": {
            "needs_background": "light"
          }
        }
      ]
    },
    {
      "cell_type": "code",
      "source": [
        "temp_val_xt = pd.crosstab(df_train['t (°C)'], df_train['Freq (Hz)'])\n",
        "temp_val_xt_pct = temp_val_xt.div(temp_val_xt.sum(1).astype(float), axis=0)\n",
        "temp_val_xt_pct.plot(kind='bar', stacked=True, title='Tempreture relationship to Frequency')"
      ],
      "metadata": {
        "colab": {
          "base_uri": "https://localhost:8080/",
          "height": 474
        },
        "id": "ahjOrvz1iEpX",
        "outputId": "17aee9f7-7742-410e-94cf-86506318bab0"
      },
      "execution_count": 14,
      "outputs": [
        {
          "output_type": "execute_result",
          "data": {
            "text/plain": [
              "<AxesSubplot:title={'center':'Tempreture relationship to Frequency'}, xlabel='t (°C)'>"
            ]
          },
          "metadata": {},
          "execution_count": 14
        },
        {
          "output_type": "display_data",
          "data": {
            "text/plain": [
              "<Figure size 720x360 with 1 Axes>"
            ],
            "image/png": "[encoded data removed]"
          },
          "metadata": {
            "needs_background": "light"
          }
        }
      ]
    },
    {
      "cell_type": "code",
      "source": [
        "df_train = df_train.drop(['SN', 'Dev ID', 'AP ID', 'AP IP', 'AP Time','Time Stamp'], axis=1)\n",
        "df_train.dtypes"
      ],
      "metadata": {
        "colab": {
          "base_uri": "https://localhost:8080/"
        },
        "id": "d1Au8vJFCv8f",
        "outputId": "a9e17d3a-d9e4-468c-9423-1de01b707ae9"
      },
      "execution_count": 15,
      "outputs": [
        {
          "output_type": "execute_result",
          "data": {
            "text/plain": [
              "Ver          float64\n",
              "Freq (Hz)    float64\n",
              "t (°C)       float64\n",
              "VAR          float64\n",
              "Status         int64\n",
              "E (kWh)      float64\n",
              "P (W)        float64\n",
              "dtype: object"
            ]
          },
          "metadata": {},
          "execution_count": 15
        }
      ]
    },
    {
      "cell_type": "markdown",
      "source": [
        "Converting the DataFrame to a numpy array\n",
        "\n"
      ],
      "metadata": {
        "id": "OtdhDGHPC0OP"
      }
    },
    {
      "cell_type": "code",
      "source": [
        "train_data = df_train.values\n",
        "train_data"
      ],
      "metadata": {
        "colab": {
          "base_uri": "https://localhost:8080/"
        },
        "id": "R2ZC7lP0C2LA",
        "outputId": "20ae7841-133f-4efa-ddfc-afe82cff915a"
      },
      "execution_count": 16,
      "outputs": [
        {
          "output_type": "execute_result",
          "data": {
            "text/plain": [
              "array([[6.100000e+00, 5.003000e+01, 4.100000e+01, ..., 1.600000e+01,\n",
              "        1.813030e+03, 0.000000e+00],\n",
              "       [6.100000e+00, 5.003000e+01, 4.160000e+01, ..., 1.000000e+00,\n",
              "        1.813030e+03, 8.000000e-01],\n",
              "       [6.100000e+00, 5.005000e+01, 4.460000e+01, ..., 1.000000e+00,\n",
              "        1.813016e+03, 3.000000e+01],\n",
              "       ...,\n",
              "       [5.320000e+00, 5.001000e+01, 2.940000e+01, ..., 1.000000e+00,\n",
              "        6.413800e+01, 1.060000e+02],\n",
              "       [5.320000e+00, 5.003000e+01, 2.750000e+01, ..., 1.000000e+00,\n",
              "        6.405200e+01, 6.650000e+01],\n",
              "       [5.320000e+00, 5.008000e+01, 1.830000e+01, ..., 1.000000e+00,\n",
              "        6.401200e+01, 6.500000e+00]])"
            ]
          },
          "metadata": {},
          "execution_count": 16
        }
      ]
    },
    {
      "cell_type": "markdown",
      "source": [
        "**Data Wrangling**"
      ],
      "metadata": {
        "id": "72Lm4sZrC9Vp"
      }
    },
    {
      "cell_type": "markdown",
      "source": [
        "**Random Forest: Training**"
      ],
      "metadata": {
        "id": "HnCo2I5iDLkH"
      }
    },
    {
      "cell_type": "code",
      "source": [
        "from sklearn import datasets, linear_model\n",
        "import sklearn.metrics as sm\n",
        "from sklearn import preprocessing\n",
        "from sklearn import utils\n",
        "clf = linear_model.LinearRegression()"
      ],
      "metadata": {
        "id": "PtuX505ADNAm"
      },
      "execution_count": 22,
      "outputs": []
    },
    {
      "cell_type": "code",
      "source": [
        "# Training data features, skip the first column 'Survived'\n",
        "train_features = train_data[:, :]\n",
        "\n",
        "# 'Survived' column values\n",
        "train_target = train_data[:, 0]\n",
        "\n",
        "\n",
        "# Fit the model to our training data\n",
        "clf = clf.fit(train_features, train_target)\n",
        "score = clf.score(train_features, train_target)\n",
        "\"Mean accuracy of Linear Regression: {0}\".format(score)"
      ],
      "metadata": {
        "colab": {
          "base_uri": "https://localhost:8080/",
          "height": 35
        },
        "id": "23XhyEVyDQo0",
        "outputId": "060fd0da-0af4-4f22-e1dd-3426fbcb6a17"
      },
      "execution_count": 24,
      "outputs": [
        {
          "output_type": "execute_result",
          "data": {
            "text/plain": [
              "'Mean accuracy of Linear Regression: 1.0'"
            ],
            "application/vnd.google.colaboratory.intrinsic+json": {
              "type": "string"
            }
          },
          "metadata": {},
          "execution_count": 24
        }
      ]
    },
    {
      "cell_type": "markdown",
      "source": [
        "**Random Forest: Predicting**"
      ],
      "metadata": {
        "id": "C3TzPFOHDU0a"
      }
    },
    {
      "cell_type": "code",
      "source": [
        "# Split the data into training/testing sets\n",
        "X_train = train_data[:-20]\n",
        "X_test = train_data[-20:]\n",
        "\n",
        "# Split the targets into training/testing sets\n",
        "y_train = train_data[:-20]\n",
        "y_test = train_data[-20:]\n",
        "\n",
        "# Train the model using the training sets\n",
        "clf.fit(X_train, y_train)\n",
        "\n",
        "# Make predictions using the testing set\n",
        "y_pred = clf.predict(X_test)\n",
        "\n",
        "\n"
      ],
      "metadata": {
        "id": "2Wo7MTwDDVwZ"
      },
      "execution_count": 26,
      "outputs": []
    },
    {
      "cell_type": "code",
      "source": [
        "from sklearn.metrics import accuracy_score\n",
        "# The coefficients\n",
        "print(\"Coefficients: \\n\", clf.coef_)\n",
        "print(\"Mean absolute error =\", round(sm.mean_absolute_error(y_test, y_pred), 2)) \n",
        "print(\"Mean squared error =\", round(sm.mean_squared_error(y_test, y_pred), 2)) \n",
        "print(\"Median absolute error =\", round(sm.median_absolute_error(y_test, y_pred), 2)) \n",
        "print(\"Explain variance score =\", round(sm.explained_variance_score(y_test, y_pred), 2)) \n",
        "print(\"R2 score =\", round(sm.r2_score(y_test, y_pred), 2))"
      ],
      "metadata": {
        "colab": {
          "base_uri": "https://localhost:8080/"
        },
        "id": "X-rk07_abEgf",
        "outputId": "ac56e5bf-da39-4e1c-bdec-9a75f2402137"
      },
      "execution_count": 31,
      "outputs": [
        {
          "output_type": "stream",
          "name": "stdout",
          "text": [
            "Coefficients: \n",
            " [[ 1.00000000e+00  1.04024917e-19  2.09628264e-17 -2.45849882e-18\n",
            "   1.10935073e-19 -6.82163275e-20 -7.35472803e-19]\n",
            " [ 1.91451067e-13  1.00000000e+00  1.04083409e-16 -6.24500451e-17\n",
            "   1.11022302e-16  0.00000000e+00 -4.16333634e-17]\n",
            " [-4.82935365e-14 -1.03606360e-14  1.00000000e+00 -1.49161824e-15\n",
            "  -1.25767452e-16  6.12574227e-17  2.73544208e-16]\n",
            " [-1.13226249e-15  1.57512892e-15  5.00177699e-15  1.00000000e+00\n",
            "  -6.93889390e-18  2.21177243e-17 -4.02889527e-16]\n",
            " [ 3.06063010e-13  1.45439216e-14  9.20097332e-15  2.43433745e-14\n",
            "   1.00000000e+00  5.41233725e-16 -7.76462228e-15]\n",
            " [-1.57813099e-13 -7.09432513e-14  2.37311256e-14  1.54717818e-14\n",
            "   4.30211422e-16  1.00000000e+00  5.58060542e-15]\n",
            " [ 3.83139214e-14 -4.87804241e-15  1.20086233e-15 -1.41618488e-15\n",
            "   1.38777878e-16 -2.42861287e-17  1.00000000e+00]]\n",
            "Mean absolute error = 0.0\n",
            "Mean squared error = 0.0\n",
            "Median absolute error = 0.0\n",
            "Explain variance score = 1.0\n",
            "R2 score = 0.97\n"
          ]
        }
      ]
    },
    {
      "cell_type": "code",
      "source": [
        "# Plot outputs\n",
        "plt.scatter(X_test, y_test, color=\"black\")\n",
        "plt.plot(X_test, y_pred, color=\"blue\", linewidth=3)\n",
        "\n",
        "plt.xticks(())\n",
        "plt.yticks(())\n",
        "\n",
        "plt.show()"
      ],
      "metadata": {
        "colab": {
          "base_uri": "https://localhost:8080/",
          "height": 306
        },
        "id": "buJv9qvgcI4J",
        "outputId": "1705dbd5-7d1b-4d09-a253-961d2eba4604"
      },
      "execution_count": 32,
      "outputs": [
        {
          "output_type": "display_data",
          "data": {
            "text/plain": [
              "<Figure size 720x360 with 1 Axes>"
            ],
            "image/png": "[encoded data removed]"
          },
          "metadata": {}
        }
      ]
    }
  ]
}