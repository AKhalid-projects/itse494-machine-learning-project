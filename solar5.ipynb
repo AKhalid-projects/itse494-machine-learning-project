{
  "nbformat": 4,
  "nbformat_minor": 0,
  "metadata": {
    "colab": {
      "provenance": [],
      "toc_visible": true
    },
    "kernelspec": {
      "name": "python3",
      "display_name": "Python 3"
    },
    "language_info": {
      "name": "python"
    }
  },
  "cells": [
    {
      "cell_type": "markdown",
      "source": [
        "# **Regression Models**"
      ],
      "metadata": {
        "id": "t2HAaTi9mVQP"
      }
    },
    {
      "cell_type": "code",
      "execution_count": 1,
      "metadata": {
        "colab": {
          "base_uri": "https://localhost:8080/"
        },
        "id": "HL7HXyEJeeuR",
        "outputId": "6ea7475f-1ba3-4010-ca76-067120d50f54"
      },
      "outputs": [
        {
          "output_type": "stream",
          "name": "stdout",
          "text": [
            "Mean Squared Error: 2060.377462055457\n",
            "R-squared Score: 0.27085674332877885\n"
          ]
        }
      ],
      "source": [
        "# import necessary libraries\n",
        "import pandas as pd\n",
        "from sklearn.linear_model import LinearRegression\n",
        "from sklearn.model_selection import train_test_split\n",
        "from sklearn.metrics import mean_squared_error, r2_score\n",
        "\n",
        "# load the solar energy dataset into a pandas dataframe\n",
        "df = pd.read_csv('/content/ALDAR-CP1.csv')\n",
        "\n",
        "# select the independent and dependent variables for the model\n",
        "X = df[['t (°C)', 'VAR', 'E (kWh)']]\n",
        "y = df['P (W)']\n",
        "\n",
        "# split the dataset into training and testing data\n",
        "X_train, X_test, y_train, y_test = train_test_split(X, y, test_size=0.2, random_state=42)\n",
        "\n",
        "# initialize a linear regression model\n",
        "lr = LinearRegression()\n",
        "\n",
        "# train the model on the training data\n",
        "lr.fit(X_train, y_train)\n",
        "\n",
        "# use the model to make predictions on the testing data\n",
        "y_pred = lr.predict(X_test)\n",
        "\n",
        "# evaluate the model's performance\n",
        "mse = mean_squared_error(y_test, y_pred)\n",
        "r2 = r2_score(y_test, y_pred)\n",
        "print('Mean Squared Error:', mse)\n",
        "print('R-squared Score:', r2)\n"
      ]
    },
    {
      "cell_type": "code",
      "source": [
        "# Import the required libraries\n",
        "import pandas as pd\n",
        "import numpy as np\n",
        "from sklearn.linear_model import Ridge\n",
        "from sklearn.preprocessing import StandardScaler\n",
        "from sklearn.model_selection import train_test_split\n",
        "from sklearn.metrics import mean_squared_error, r2_score\n",
        "\n",
        "# Load the dataset into a pandas DataFrame\n",
        "df = pd.read_csv('/content/ALDAR-CP1.csv')\n",
        "\n",
        "# Select the input and output variables\n",
        "X = df[['t (°C)', 'P (W)', 'Freq (Hz)']]\n",
        "y = df['E (kWh)']\n",
        "\n",
        "# Split the dataset into training and testing sets\n",
        "X_train, X_test, y_train, y_test = train_test_split(X, y, test_size=0.2, random_state=42)\n",
        "\n",
        "# Perform feature scaling on the input variables\n",
        "scaler = StandardScaler()\n",
        "X_train_scaled = scaler.fit_transform(X_train)\n",
        "X_test_scaled = scaler.transform(X_test)\n",
        "\n",
        "# Create a Ridge model and fit it to the training data\n",
        "model = Ridge(alpha=0.1, solver='cholesky')\n",
        "model.fit(X_train_scaled, y_train)\n",
        "\n",
        "# Make predictions on the testing data\n",
        "y_pred = model.predict(X_test_scaled)\n",
        "\n",
        "# Evaluate the model's performance using mean squared error and R-squared score\n",
        "mse = mean_squared_error(y_test, y_pred)\n",
        "r2 = r2_score(y_test, y_pred)\n",
        "\n",
        "print('Mean Squared Error:', mse)\n",
        "print('R-squared Score:', r2)\n"
      ],
      "metadata": {
        "colab": {
          "base_uri": "https://localhost:8080/"
        },
        "id": "73C55SLjhw8V",
        "outputId": "1bd0515a-28f2-4b61-80f5-287ac19b0d67"
      },
      "execution_count": 2,
      "outputs": [
        {
          "output_type": "stream",
          "name": "stdout",
          "text": [
            "Mean Squared Error: 1218702.9733529892\n",
            "R-squared Score: 0.013084438977701174\n"
          ]
        }
      ]
    },
    {
      "cell_type": "code",
      "source": [
        "# Import the required libraries\n",
        "import pandas as pd\n",
        "import numpy as np\n",
        "from sklearn.ensemble import RandomForestRegressor\n",
        "from sklearn.model_selection import train_test_split\n",
        "from sklearn.metrics import mean_squared_error, r2_score\n",
        "\n",
        "# Load the dataset into a pandas DataFrame\n",
        "df = pd.read_csv('/content/ALDAR-CP1.csv')\n",
        "\n",
        "# Select the input and output variables\n",
        "X = df[['t (°C)', 'P (W)', 'Freq (Hz)']]\n",
        "y = df['E (kWh)']\n",
        "\n",
        "# Split the dataset into training and testing sets\n",
        "X_train, X_test, y_train, y_test = train_test_split(X, y, test_size=0.2, random_state=42)\n",
        "\n",
        "# Create a Random Forest model and fit it to the training data\n",
        "model = RandomForestRegressor(n_estimators=100, max_depth=10, random_state=42)\n",
        "model.fit(X_train, y_train)\n",
        "\n",
        "# Make predictions on the testing data\n",
        "y_pred = model.predict(X_test)\n",
        "\n",
        "# Evaluate the model's performance using mean squared error and R-squared score\n",
        "mse = mean_squared_error(y_test, y_pred)\n",
        "r2 = r2_score(y_test, y_pred)\n",
        "\n",
        "print('Mean Squared Error:', mse)\n",
        "print('R-squared Score:', r2)\n"
      ],
      "metadata": {
        "colab": {
          "base_uri": "https://localhost:8080/"
        },
        "id": "kEoIyWcNis_T",
        "outputId": "968fbae7-7aec-4300-91d6-ff60a7888336"
      },
      "execution_count": 3,
      "outputs": [
        {
          "output_type": "stream",
          "name": "stdout",
          "text": [
            "Mean Squared Error: 1252136.4163900528\n",
            "R-squared Score: -0.013990234600102402\n"
          ]
        }
      ]
    },
    {
      "cell_type": "code",
      "source": [
        "# Import the required libraries\n",
        "import pandas as pd\n",
        "from sklearn.svm import SVR\n",
        "from sklearn.model_selection import train_test_split\n",
        "from sklearn.metrics import mean_squared_error, r2_score\n",
        "\n",
        "# Load the dataset into a pandas DataFrame\n",
        "df = pd.read_csv('/content/ALDAR-CP1.csv')\n",
        "\n",
        "# Select the input and output variables\n",
        "X = df[['t (°C)', 'P (W)', 'Freq (Hz)']]\n",
        "y = df['E (kWh)']\n",
        "\n",
        "# Split the dataset into training and testing sets\n",
        "X_train, X_test, y_train, y_test = train_test_split(X, y, test_size=0.2, random_state=42)\n",
        "\n",
        "# Create an SVR model and fit it to the training data\n",
        "model = SVR(kernel='rbf', gamma='scale', C=1000)\n",
        "model.fit(X_train, y_train)\n",
        "\n",
        "# Make predictions on the testing data\n",
        "y_pred = model.predict(X_test)\n",
        "\n",
        "# Evaluate the model's performance using mean squared error and R-squared score\n",
        "mse = mean_squared_error(y_test, y_pred)\n",
        "r2 = r2_score(y_test, y_pred)\n",
        "\n",
        "print('Mean Squared Error:', mse)\n",
        "print('R-squared Score:', r2)\n"
      ],
      "metadata": {
        "colab": {
          "base_uri": "https://localhost:8080/"
        },
        "id": "lQyM168rjbu2",
        "outputId": "9ecc0d9c-c875-4e98-8549-1634b921aa77"
      },
      "execution_count": 4,
      "outputs": [
        {
          "output_type": "stream",
          "name": "stdout",
          "text": [
            "Mean Squared Error: 1352071.5596804658\n",
            "R-squared Score: -0.09491852489133712\n"
          ]
        }
      ]
    },
    {
      "cell_type": "markdown",
      "source": [
        "# **Classification Models**"
      ],
      "metadata": {
        "id": "G58Qjl9rmPPT"
      }
    },
    {
      "cell_type": "code",
      "source": [
        "# Import the required libraries\n",
        "import pandas as pd\n",
        "from sklearn.tree import DecisionTreeClassifier\n",
        "from sklearn.model_selection import train_test_split\n",
        "from sklearn.metrics import accuracy_score, classification_report\n",
        "\n",
        "# Load the dataset into a pandas DataFrame\n",
        "df = pd.read_csv('/content/ALDAR-CP1.csv')\n",
        "\n",
        "# Define a new column for device status\n",
        "df['Device_Status'] = df['Status'].apply(lambda x: 'Normal' if x == 0 else 'Abnormal')\n",
        "\n",
        "# Select the input and output variables\n",
        "X = df[['t (°C)', 'P (W)', 'Freq (Hz)', 'E (kWh)']]\n",
        "y = df['Device_Status']\n",
        "\n",
        "# Split the dataset into training and testing sets\n",
        "X_train, X_test, y_train, y_test = train_test_split(X, y, test_size=0.2, random_state=42)\n",
        "\n",
        "# Create a Decision Tree Classifier and fit it to the training data\n",
        "model = DecisionTreeClassifier(random_state=42)\n",
        "model.fit(X_train, y_train)\n",
        "\n",
        "# Make predictions on the testing data\n",
        "y_pred = model.predict(X_test)\n",
        "\n",
        "# Evaluate the model's performance using accuracy score and classification report\n",
        "accuracy = accuracy_score(y_test, y_pred)\n",
        "report = classification_report(y_test, y_pred)\n",
        "\n",
        "print('Accuracy:', accuracy)\n",
        "print('Classification Report:\\n', report)\n"
      ],
      "metadata": {
        "colab": {
          "base_uri": "https://localhost:8080/"
        },
        "id": "o-C_I242keu2",
        "outputId": "5c60d768-3786-411b-d96a-d85b87e92cec"
      },
      "execution_count": 5,
      "outputs": [
        {
          "output_type": "stream",
          "name": "stdout",
          "text": [
            "Accuracy: 0.993663594470046\n",
            "Classification Report:\n",
            "               precision    recall  f1-score   support\n",
            "\n",
            "    Abnormal       1.00      1.00      1.00      1732\n",
            "      Normal       0.00      0.00      0.00         4\n",
            "\n",
            "    accuracy                           0.99      1736\n",
            "   macro avg       0.50      0.50      0.50      1736\n",
            "weighted avg       1.00      0.99      0.99      1736\n",
            "\n"
          ]
        }
      ]
    },
    {
      "cell_type": "code",
      "source": [
        "# Import the required libraries\n",
        "import pandas as pd\n",
        "from sklearn.tree import DecisionTreeClassifier\n",
        "from sklearn.model_selection import train_test_split\n",
        "from sklearn.metrics import accuracy_score, f1_score, classification_report\n",
        "\n",
        "# Load the dataset into a pandas DataFrame\n",
        "df = pd.read_csv('/content/ALDAR-CP1.csv')\n",
        "\n",
        "# Define a new column for device status\n",
        "df['Device_Status'] = df['Status'].apply(lambda x: 'Normal' if x == 0 else 'Abnormal')\n",
        "\n",
        "# Select the input and output variables\n",
        "X = df[['t (°C)', 'P (W)', 'Freq (Hz)', 'E (kWh)']]\n",
        "y = df['Device_Status']\n",
        "\n",
        "# Split the dataset into training and testing sets\n",
        "X_train, X_test, y_train, y_test = train_test_split(X, y, test_size=0.2, random_state=42)\n",
        "\n",
        "# Create a Decision Tree Classifier and fit it to the training data\n",
        "model = DecisionTreeClassifier(random_state=42)\n",
        "model.fit(X_train, y_train)\n",
        "\n",
        "# Make predictions on the testing data\n",
        "y_pred = model.predict(X_test)\n",
        "\n",
        "# Evaluate the model's performance using accuracy score, F1 score, and classification report\n",
        "accuracy = accuracy_score(y_test, y_pred)\n",
        "f1 = f1_score(y_test, y_pred, pos_label='Abnormal')\n",
        "report = classification_report(y_test, y_pred)\n",
        "\n",
        "print('Accuracy:', accuracy)\n",
        "print('F1 Score:', f1)\n",
        "print('Classification Report:\\n', report)\n"
      ],
      "metadata": {
        "colab": {
          "base_uri": "https://localhost:8080/"
        },
        "id": "6aSo-4BhmF11",
        "outputId": "254ac4b9-7420-4e03-e7e3-a4e5cbf9241b"
      },
      "execution_count": 7,
      "outputs": [
        {
          "output_type": "stream",
          "name": "stdout",
          "text": [
            "Accuracy: 0.993663594470046\n",
            "F1 Score: 0.9968217278243282\n",
            "Classification Report:\n",
            "               precision    recall  f1-score   support\n",
            "\n",
            "    Abnormal       1.00      1.00      1.00      1732\n",
            "      Normal       0.00      0.00      0.00         4\n",
            "\n",
            "    accuracy                           0.99      1736\n",
            "   macro avg       0.50      0.50      0.50      1736\n",
            "weighted avg       1.00      0.99      0.99      1736\n",
            "\n"
          ]
        }
      ]
    },
    {
      "cell_type": "code",
      "source": [
        "# Import the required libraries\n",
        "import pandas as pd\n",
        "from sklearn.tree import DecisionTreeClassifier\n",
        "from sklearn.model_selection import train_test_split\n",
        "from sklearn.metrics import accuracy_score, f1_score, classification_report\n",
        "from imblearn.under_sampling import RandomUnderSampler\n",
        "\n",
        "# Load the dataset into a pandas DataFrame\n",
        "df = pd.read_csv('/content/ALDAR-CP1.csv')\n",
        "\n",
        "# Define a new column for device status\n",
        "df['Device_Status'] = df['Status'].apply(lambda x: 'Normal' if x == 0 else 'Abnormal')\n",
        "\n",
        "# Select the input and output variables\n",
        "X = df[['t (°C)', 'P (W)', 'Freq (Hz)', 'E (kWh)']]\n",
        "y = df['Device_Status']\n",
        "\n",
        "# Apply undersampling to balance the classes\n",
        "undersampler = RandomUnderSampler(random_state=42)\n",
        "X_resampled, y_resampled = undersampler.fit_resample(X, y)\n",
        "\n",
        "# Split the resampled dataset into training and testing sets\n",
        "X_train, X_test, y_train, y_test = train_test_split(X_resampled, y_resampled, test_size=0.2, random_state=42)\n",
        "\n",
        "# Create a Decision Tree Classifier and fit it to the training data\n",
        "model = DecisionTreeClassifier(random_state=42)\n",
        "model.fit(X_train, y_train)\n",
        "\n",
        "# Make predictions on the testing data\n",
        "y_pred = model.predict(X_test)\n",
        "\n",
        "# Evaluate the model's performance using accuracy score, F1 score, and classification report\n",
        "accuracy = accuracy_score(y_test, y_pred)\n",
        "f1 = f1_score(y_test, y_pred, pos_label='Abnormal')\n",
        "report = classification_report(y_test, y_pred)\n",
        "\n",
        "print('Accuracy:', accuracy)\n",
        "print('F1 Score:', f1)\n",
        "print('Classification Report:\\n', report)\n"
      ],
      "metadata": {
        "colab": {
          "base_uri": "https://localhost:8080/"
        },
        "id": "3-QnkPRTnyMA",
        "outputId": "bf47fbc2-d744-46cb-da3b-eca5510ebca5"
      },
      "execution_count": 9,
      "outputs": [
        {
          "output_type": "stream",
          "name": "stdout",
          "text": [
            "Accuracy: 0.8666666666666667\n",
            "F1 Score: 0.9\n",
            "Classification Report:\n",
            "               precision    recall  f1-score   support\n",
            "\n",
            "    Abnormal       0.90      0.90      0.90        10\n",
            "      Normal       0.80      0.80      0.80         5\n",
            "\n",
            "    accuracy                           0.87        15\n",
            "   macro avg       0.85      0.85      0.85        15\n",
            "weighted avg       0.87      0.87      0.87        15\n",
            "\n"
          ]
        }
      ]
    }
  ]
}